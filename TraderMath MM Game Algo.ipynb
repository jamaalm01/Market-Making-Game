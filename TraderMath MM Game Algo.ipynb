{
 "cells": [
  {
   "cell_type": "code",
   "execution_count": 41,
   "id": "aaf98db2",
   "metadata": {},
   "outputs": [],
   "source": [
    "from scipy.stats import norm\n",
    "import numpy as np"
   ]
  },
  {
   "cell_type": "code",
   "execution_count": 42,
   "id": "e4391042",
   "metadata": {},
   "outputs": [],
   "source": [
    "def predict(n_cards,given_card,spread):\n",
    "    \n",
    "    # Assumptions\n",
    "    # X - N(μ,σ^2)\n",
    "    \n",
    "    #Calculating nE[X] and n^2*σ^2 of all unturned cards if none are shown\n",
    "    \n",
    "    total_val = 416\n",
    "    expected_val = total_val/52\n",
    "    total_sqrd_val = 4056\n",
    "    expected_sqrd_val = total_sqrd_val/52\n",
    "    total_expected_val = (n_cards)*expected_val\n",
    "    sigma_sqrd = (n_cards)**2*(expected_sqrd_val - expected_val**2)\n",
    "    sigma = np.sqrt(sigma_sqrd)\n",
    "    \n",
    "    #Calculating nE[X] and n^2*σ^2 of all unturned cards if one card is shown\n",
    "    \n",
    "    if given_card > 0:\n",
    "        total_val = total_val - given_card\n",
    "        expected_val = total_val/51\n",
    "        total_sqrd_val -= given_card**2\n",
    "        expected_sqrd_val = total_sqrd_val/51\n",
    "        total_expected_val = (n_cards-1)*expected_val + given_card\n",
    "        sigma_sqrd = (n_cards-1)**2*(expected_sqrd_val - expected_val**2)\n",
    "        sigma = np.sqrt(sigma_sqrd)\n",
    "    \n",
    "    #Calculating probability of edge when buying and selling\n",
    "    \n",
    "    bid, ask = spread\n",
    "    \n",
    "    buy_prob_prof = 1 - norm.cdf((ask - total_expected_val) / sigma)\n",
    "    sell_prob_prof = norm.cdf((bid - total_expected_val) / sigma)\n",
    "    \n",
    "    volume = 0\n",
    "    \n",
    "    #Making decision to buy or sell and how much volume to trade based off probabilities and expected values\n",
    "    \n",
    "    if round(buy_prob_prof,4) > round(sell_prob_prof,4):\n",
    "        if buy_prob_prof < 0.5:\n",
    "            volume = 1 \n",
    "        elif buy_prob_prof < 0.7:\n",
    "            volume = 5\n",
    "        else:\n",
    "            volume = 10\n",
    "        print(\"BUY\", volume)\n",
    "        print(\"Expected Profit\", round(buy_prob_prof*(total_expected_val - ask),2))\n",
    "        print(\"Probability of Profit:\",round(buy_prob_prof,2))\n",
    "    elif round(sell_prob_prof,4) > round(buy_prob_prof,4):\n",
    "        if sell_prob_prof < 0.5:\n",
    "            volume = 1 \n",
    "        elif sell_prob_prof < 0.7:\n",
    "            volume = 5\n",
    "        else:\n",
    "            volume = 10\n",
    "        print(\"SELL\", volume)\n",
    "        print(\"Expected Profit\", round(sell_prob_prof*(bid - total_expected_val),2))\n",
    "        print(\"Probability of Profit:\",round(sell_prob_prof,2))\n",
    "    else:\n",
    "        if buy_prob_prof < 0.5:\n",
    "            volume = 1 \n",
    "        elif buy_prob_prof < 0.7:\n",
    "            volume = 5\n",
    "        else:\n",
    "            volume = 10\n",
    "        print(\"BUY OR SELL\",volume)\n",
    "        print(\"Expected Profit Buying\", round(buy_prob_prof*(total_expected_val - ask),2))\n",
    "        print(\"Expected Profit Selling\", round(sell_prob_prof*(bid - total_expected_val),2))\n",
    "        print(\"Probability of Profit:\",round(sell_prob_prof,2))"
   ]
  },
  {
   "cell_type": "code",
   "execution_count": 43,
   "id": "8085af58",
   "metadata": {},
   "outputs": [
    {
     "name": "stdout",
     "output_type": "stream",
     "text": [
      "BUY 10\n",
      "Expected Profit 8.14\n",
      "Probability of Profit: 0.81\n"
     ]
    }
   ],
   "source": [
    "predict(3,0,(12,14))"
   ]
  },
  {
   "cell_type": "code",
   "execution_count": null,
   "id": "151d34ec",
   "metadata": {},
   "outputs": [],
   "source": []
  }
 ],
 "metadata": {
  "kernelspec": {
   "display_name": "Python 3",
   "language": "python",
   "name": "python3"
  },
  "language_info": {
   "codemirror_mode": {
    "name": "ipython",
    "version": 3
   },
   "file_extension": ".py",
   "mimetype": "text/x-python",
   "name": "python",
   "nbconvert_exporter": "python",
   "pygments_lexer": "ipython3",
   "version": "3.8.8"
  }
 },
 "nbformat": 4,
 "nbformat_minor": 5
}
