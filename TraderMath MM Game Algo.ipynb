{
 "cells": [
  {
   "cell_type": "code",
   "execution_count": 28,
   "id": "aaf98db2",
   "metadata": {},
   "outputs": [],
   "source": [
    "from scipy.stats import norm\n",
    "import numpy as np"
   ]
  },
  {
   "cell_type": "code",
   "execution_count": 79,
   "id": "e4391042",
   "metadata": {},
   "outputs": [],
   "source": [
    "def predict(n_cards,given_card,spread):\n",
    "    total_val = 416\n",
    "    expected_val = total_val/52\n",
    "    total_sqrd_val = 4056\n",
    "    expected_sqrd_val = total_sqrd_val/52\n",
    "    total_expected_val = (n_cards)*expected_val\n",
    "    sigma_sqrd = (n_cards)**2*(expected_sqrd_val - expected_val**2)\n",
    "    sigma = np.sqrt(sigma_sqrd)\n",
    "    \n",
    "    if given_card > 0:\n",
    "        total_val = total_val - given_card\n",
    "        expected_val = total_val/51\n",
    "        total_sqrd_val -= given_card**2\n",
    "        expected_sqrd_val = total_sqrd_val/51\n",
    "        total_expected_val = (n_cards-1)*expected_val + given_card\n",
    "        sigma_sqrd = (n_cards-1)**2*(expected_sqrd_val - expected_val**2)\n",
    "        sigma = np.sqrt(sigma_sqrd)\n",
    "    \n",
    "    bid, ask = spread\n",
    "    buy_prob_prof = 1 - norm.cdf((ask - total_expected_val) / sigma)\n",
    "    sell_prob_prof = norm.cdf((bid - total_expected_val) / sigma)\n",
    "    \n",
    "    if buy_prob_prof > sell_prob_prof:\n",
    "        print(\"BUY\")\n",
    "        print(\"Probability of Profit:\",round(buy_prob_prof,2))\n",
    "    elif sell_prob_prof > buy_prob_prof:\n",
    "        print(\"SELL\")\n",
    "        print(\"Probability of Profit:\",round(sell_prob_prof,2))\n",
    "    else:\n",
    "        print(\"BUY OR SELL\")\n",
    "        print(\"Probability of Profit:\",round(sell_prob_prof,2))"
   ]
  },
  {
   "cell_type": "code",
   "execution_count": 93,
   "id": "8085af58",
   "metadata": {},
   "outputs": [
    {
     "name": "stdout",
     "output_type": "stream",
     "text": [
      "BUY\n",
      "Probability of Profit: 0.73\n"
     ]
    }
   ],
   "source": [
    "predict(3,0,(17,19))"
   ]
  },
  {
   "cell_type": "code",
   "execution_count": null,
   "id": "ce239ad2",
   "metadata": {},
   "outputs": [],
   "source": []
  }
 ],
 "metadata": {
  "kernelspec": {
   "display_name": "Python 3",
   "language": "python",
   "name": "python3"
  },
  "language_info": {
   "codemirror_mode": {
    "name": "ipython",
    "version": 3
   },
   "file_extension": ".py",
   "mimetype": "text/x-python",
   "name": "python",
   "nbconvert_exporter": "python",
   "pygments_lexer": "ipython3",
   "version": "3.8.8"
  }
 },
 "nbformat": 4,
 "nbformat_minor": 5
}
