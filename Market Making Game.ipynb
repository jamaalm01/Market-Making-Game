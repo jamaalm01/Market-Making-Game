{
 "cells": [
  {
   "cell_type": "code",
   "execution_count": 1,
   "id": "5a77941b",
   "metadata": {},
   "outputs": [],
   "source": [
    "def flatten(xss):\n",
    "    return [x for xs in xss for x in xs]"
   ]
  },
  {
   "cell_type": "code",
   "execution_count": 2,
   "id": "4d24321b",
   "metadata": {},
   "outputs": [],
   "source": [
    "import random"
   ]
  },
  {
   "cell_type": "code",
   "execution_count": 3,
   "id": "88bedbaf",
   "metadata": {},
   "outputs": [],
   "source": [
    "def cardGame(n_cards,budget):\n",
    "    \n",
    "    A = [[2,3,4,5,6,7,8,9,10,11,12,13,14] for i in range(4)]\n",
    "    A = flatten(A)\n",
    "    for i in range(52):\n",
    "        random_num = random.randint(0,51)\n",
    "        A[i], A[random_num] = A[random_num], A[i]\n",
    "    \n",
    "    cards = []\n",
    "    for i in range(n_cards):\n",
    "        card = random.randint(0,len(A)-1)\n",
    "        cards.append(A[card])\n",
    "        del A[card]\n",
    "    \n",
    "    reveal_or_no = random.randint(0,2)\n",
    "    unturnedCards = \"\"\n",
    "    if reveal_or_no == 2:\n",
    "        for i in range(n_cards-1):\n",
    "            unturnedCards += \" [] \"\n",
    "        print(cards[0], unturnedCards)\n",
    "    else:\n",
    "        for i in range(n_cards):\n",
    "            unturnedCards += \" [] \"\n",
    "        print(unturnedCards)\n",
    "        \n",
    "    ask = random.randint(2*n_cards,14*n_cards)\n",
    "    bid = ask - 2\n",
    "    bid_ask = (bid,ask)\n",
    "    print(bid_ask)\n",
    "    underlying_value = sum(cards)\n",
    "    profit = 0 \n",
    "\n",
    "    while True:\n",
    "        print(\"PLEASE ENTER 'BUY' OR 'SELL' FOLLOWED BY VOLUME, eg: 'BUY 5'\")\n",
    "        decision = input()\n",
    "        try:\n",
    "            decision = decision.split()\n",
    "            choice = decision[0]\n",
    "            volume = int(decision[1])\n",
    "            if choice == \"BUY\":\n",
    "                profit = (underlying_value - ask)*volume\n",
    "            if choice == \"SELL\":\n",
    "                profit = (bid - underlying_value)*volume\n",
    "        except:\n",
    "            print ('Valid Input, Please')\n",
    "            continue\n",
    "        if choice in ['BUY','SELL']:\n",
    "            break\n",
    "        else:\n",
    "            print ('Valid Input, Please')\n",
    "        if volume:\n",
    "            break\n",
    "        else:\n",
    "            print ('Valid Input, Please')\n",
    "    \n",
    "    print(cards)\n",
    "    print(\"Profit: \", profit)\n",
    "    return profit\n",
    "    "
   ]
  },
  {
   "cell_type": "code",
   "execution_count": 4,
   "id": "cc086e6c",
   "metadata": {},
   "outputs": [],
   "source": [
    "def market_make_game(n_rounds,n_cards,budget):\n",
    "    total = budget\n",
    "    for i in range(n_rounds):\n",
    "        print(\"========\")\n",
    "        print(\"ROUND \",i + 1)\n",
    "        print(\"========\")\n",
    "        profit = cardGame(n_cards,budget)\n",
    "        budget = budget + profit\n",
    "        print(\"Budget: \", budget)\n",
    "        print(\" \")"
   ]
  },
  {
   "cell_type": "code",
   "execution_count": 8,
   "id": "257acec0",
   "metadata": {},
   "outputs": [
    {
     "name": "stdout",
     "output_type": "stream",
     "text": [
      "========\n",
      "ROUND  1\n",
      "========\n",
      " []  []  []  []  [] \n",
      "(19, 21)\n",
      "PLEASE ENTER 'BUY' OR 'SELL' FOLLOWED BY VOLUME, eg: 'BUY 5'\n",
      "BUY 100\n",
      "[9, 4, 8, 6, 12]\n",
      "Profit:  1800\n",
      "Budget:  2300\n",
      " \n",
      "========\n",
      "ROUND  2\n",
      "========\n",
      " []  []  []  []  [] \n",
      "(38, 40)\n",
      "PLEASE ENTER 'BUY' OR 'SELL' FOLLOWED BY VOLUME, eg: 'BUY 5'\n",
      "BUY 50\n",
      "[9, 11, 8, 8, 13]\n",
      "Profit:  450\n",
      "Budget:  2750\n",
      " \n"
     ]
    }
   ],
   "source": [
    "market_make_game(2,5,500)"
   ]
  },
  {
   "cell_type": "code",
   "execution_count": null,
   "id": "d945e8ee",
   "metadata": {},
   "outputs": [],
   "source": []
  }
 ],
 "metadata": {
  "kernelspec": {
   "display_name": "Python 3",
   "language": "python",
   "name": "python3"
  },
  "language_info": {
   "codemirror_mode": {
    "name": "ipython",
    "version": 3
   },
   "file_extension": ".py",
   "mimetype": "text/x-python",
   "name": "python",
   "nbconvert_exporter": "python",
   "pygments_lexer": "ipython3",
   "version": "3.8.8"
  }
 },
 "nbformat": 4,
 "nbformat_minor": 5
}
